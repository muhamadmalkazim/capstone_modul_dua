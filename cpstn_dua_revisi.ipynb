{
 "cells": [
  {
   "attachments": {},
   "cell_type": "markdown",
   "metadata": {},
   "source": [
    "# LATAR BELAKANG  \n",
    "NYC TLC (New York City Taxi and Limousine Commission) adalah lembaga yang bertanggung jawab untuk mengatur dan mengawasi industri transportasi berbayar di Kota New York. Komisi ini didirikan pada tahun 1971 dan memiliki wewenang untuk mengeluarkan izin, menegakkan peraturan, dan menetapkan kebijakan untuk berbagai layanan transportasi, termasuk taksi, kendaraan berbayar, dan layanan ride-hailing.\n",
    "\n",
    "Peran utama NYC TLC adalah untuk memastikan keselamatan dan kualitas layanan transportasi yang diberikan kepada masyarakat. Komisi menetapkan standar kualifikasi pengemudi, pemeriksaan kendaraan, dan persyaratan asuransi untuk melindungi penumpang dan mempromosikan sistem transportasi yang dapat diandalkan. TLC juga menetapkan struktur tarif, memantau keluhan pelanggan, dan menegakkan aturan dan peraturan terkait industri ini.\n",
    "\n",
    "Salah satu aspek ikonik dari NYC TLC adalah pengaturan industri taksi kuning. Komisi mengawasi lisensi dan operasi taksi kuning di kota ini, yang merupakan bagian integral dari sistem transportasi Kota New York. TLC menetapkan aturan untuk tarif taksi, medali taksi (lisensi), kualifikasi pengemudi, dan standar kendaraan.\n",
    "\n",
    "Dalam beberapa tahun terakhir, NYC TLC juga memainkan peran penting dalam menyesuaikan peraturan untuk menampung layanan transportasi baru, seperti perusahaan ride-hailing berbasis aplikasi seperti Uber, Lyft, dan layanan kendaraan berbayar lainnya. Komisi telah menerapkan aturan dan persyaratan untuk layanan ini untuk memastikan persaingan yang adil, keselamatan penumpang, dan lisensi yang tepat.\n",
    "\n",
    "Secara keseluruhan, NYC TLC berfungsi sebagai badan pengatur yang mempromosikan pilihan transportasi yang aman dan efisien bagi penduduk dan pengunjung di Kota New York. Tanggung jawabnya meliputi penerbitan lisensi, pengaturan, dan penegakan untuk menjaga jaringan transportasi yang handal dan teratur."
   ]
  },
  {
   "attachments": {},
   "cell_type": "markdown",
   "metadata": {},
   "source": [
    "# MASALAH DAN TUJUAN\n",
    "**Stakeholder:**  \n",
    "- COO Vendor satu\n",
    "\n",
    "**Masalah :**  \n",
    "- Vendor satu memliki jumlah order yang sangat sedikit ketika dibandingkan dengan vendor dua\n",
    "\n",
    "**Tujuan :**  \n",
    "- Meningkatkan jumlah order di vendor satu yang memiliki jumlah order yang cukup jauh dari vendor dua"
   ]
  },
  {
   "cell_type": "code",
   "execution_count": 708,
   "metadata": {},
   "outputs": [],
   "source": [
    "import numpy as np\n",
    "import pandas as pd\n",
    "import seaborn as sns\n",
    "import matplotlib.pyplot as plt\n",
    "import datetime\n"
   ]
  },
  {
   "cell_type": "code",
   "execution_count": 709,
   "metadata": {},
   "outputs": [
    {
     "name": "stderr",
     "output_type": "stream",
     "text": [
      "C:\\Users\\Musa\\AppData\\Local\\Temp\\ipykernel_17900\\1604315338.py:1: DtypeWarning: Columns (3) have mixed types. Specify dtype option on import or set low_memory=False.\n",
      "  df_raw = pd.read_csv('NYC TLC Trip Record.csv')\n"
     ]
    }
   ],
   "source": [
    "df_raw = pd.read_csv('NYC TLC Trip Record.csv')\n",
    "df = df_raw.copy()"
   ]
  },
  {
   "attachments": {},
   "cell_type": "markdown",
   "metadata": {},
   "source": [
    "**DATA CLEANSING**"
   ]
  },
  {
   "attachments": {},
   "cell_type": "markdown",
   "metadata": {},
   "source": [
    "****DROP ROW & CHANGE MISS DATA-TYPE****     \n",
    "- mengganti lpep_pickup_datetime menjadi date-time   \n",
    "- mengganti lpep_dropoff_datetime menjadi date-time   \n",
    "- mengganti passenger_count float menjadi integer   \n",
    "- mengganti RatecodeID dari float menjadi integer   \n",
    "- mengganti payment_type dari float menjadi integer   \n",
    "- mengganti trip_type dari float menjadi integer"
   ]
  },
  {
   "attachments": {},
   "cell_type": "markdown",
   "metadata": {},
   "source": [
    "**show 10 zone dengan highest frequent**"
   ]
  },
  {
   "attachments": {},
   "cell_type": "markdown",
   "metadata": {},
   "source": [
    "drop column dibawah karena analisis yang di lakukan tidak membutuhkan column-column tersebut, perbandingan yang dilakukan terhadap lokasi, order time, payment type, passenger type tidak dibutuhkan column-column seperti toll_amount,tax_amount,ehail_fee,dkk"
   ]
  },
  {
   "cell_type": "code",
   "execution_count": 710,
   "metadata": {},
   "outputs": [],
   "source": [
    "df.drop(['store_and_fwd_flag', 'fare_amount', 'extra', 'mta_tax', 'tip_amount', 'tolls_amount', 'ehail_fee', 'improvement_surcharge', 'total_amount', 'congestion_surcharge'], axis=1, inplace=True)"
   ]
  },
  {
   "cell_type": "code",
   "execution_count": 711,
   "metadata": {},
   "outputs": [],
   "source": [
    "df.dropna(inplace=True)"
   ]
  },
  {
   "attachments": {},
   "cell_type": "markdown",
   "metadata": {},
   "source": [
    "merubah lpep_pickup_datetime dan lpep_dropoff_datetime dari tipe data object menjadi date time agar bisa diolah untuk analisis"
   ]
  },
  {
   "cell_type": "code",
   "execution_count": 712,
   "metadata": {},
   "outputs": [],
   "source": [
    "df['lpep_pickup_datetime'] = pd.to_datetime(df['lpep_pickup_datetime'])"
   ]
  },
  {
   "cell_type": "code",
   "execution_count": 713,
   "metadata": {},
   "outputs": [],
   "source": [
    "df['lpep_dropoff_datetime'] = pd.to_datetime(df['lpep_dropoff_datetime'])"
   ]
  },
  {
   "cell_type": "code",
   "execution_count": 714,
   "metadata": {},
   "outputs": [],
   "source": [
    "df['passenger_count'] = df['passenger_count'].astype(int)"
   ]
  },
  {
   "cell_type": "code",
   "execution_count": 715,
   "metadata": {},
   "outputs": [],
   "source": [
    "df['RatecodeID'] = df['RatecodeID'].astype(int)"
   ]
  },
  {
   "cell_type": "code",
   "execution_count": 716,
   "metadata": {},
   "outputs": [],
   "source": [
    "df['payment_type'] = df['payment_type'].astype(int)\n"
   ]
  },
  {
   "cell_type": "code",
   "execution_count": 717,
   "metadata": {},
   "outputs": [],
   "source": [
    "df['trip_type'] = df['trip_type'].astype(int)\n"
   ]
  },
  {
   "attachments": {},
   "cell_type": "markdown",
   "metadata": {},
   "source": [
    "hanya mengambil trip distance dibawah 70 karena ada 1 data yang memiliki trip_distance melebihi 1500miles yang mana pasti anomali"
   ]
  },
  {
   "cell_type": "code",
   "execution_count": 718,
   "metadata": {},
   "outputs": [],
   "source": [
    "df = df[df['trip_distance'] <= 70]\n"
   ]
  },
  {
   "attachments": {},
   "cell_type": "markdown",
   "metadata": {},
   "source": [
    "**ADD NEW COLUMN ZONE & DROPZONE**   \n",
    "**menambahkan column Zone dan Drop_zone dalam rangka agar memudahkan analisis di kemudian hari**"
   ]
  },
  {
   "attachments": {},
   "cell_type": "markdown",
   "metadata": {},
   "source": [
    "melakukan merging agar PULocationID dapat di konversi menjadi zone, dan nantinya zone digunakan untuk analisis berdasarkan daerah"
   ]
  },
  {
   "cell_type": "code",
   "execution_count": 719,
   "metadata": {},
   "outputs": [
    {
     "data": {
      "text/html": [
       "<div>\n",
       "<style scoped>\n",
       "    .dataframe tbody tr th:only-of-type {\n",
       "        vertical-align: middle;\n",
       "    }\n",
       "\n",
       "    .dataframe tbody tr th {\n",
       "        vertical-align: top;\n",
       "    }\n",
       "\n",
       "    .dataframe thead th {\n",
       "        text-align: right;\n",
       "    }\n",
       "</style>\n",
       "<table border=\"1\" class=\"dataframe\">\n",
       "  <thead>\n",
       "    <tr style=\"text-align: right;\">\n",
       "      <th></th>\n",
       "      <th>VendorID</th>\n",
       "      <th>lpep_pickup_datetime</th>\n",
       "      <th>lpep_dropoff_datetime</th>\n",
       "      <th>RatecodeID</th>\n",
       "      <th>PULocationID</th>\n",
       "      <th>DOLocationID</th>\n",
       "      <th>passenger_count</th>\n",
       "      <th>trip_distance</th>\n",
       "      <th>payment_type</th>\n",
       "      <th>trip_type</th>\n",
       "      <th>Zone</th>\n",
       "      <th>Drop_zone</th>\n",
       "    </tr>\n",
       "  </thead>\n",
       "  <tbody>\n",
       "    <tr>\n",
       "      <th>0</th>\n",
       "      <td>2</td>\n",
       "      <td>2023-01-01 00:26:10</td>\n",
       "      <td>2023-01-01 00:37:11</td>\n",
       "      <td>1</td>\n",
       "      <td>166</td>\n",
       "      <td>143</td>\n",
       "      <td>1</td>\n",
       "      <td>2.58</td>\n",
       "      <td>1</td>\n",
       "      <td>1</td>\n",
       "      <td>Morningside Heights</td>\n",
       "      <td>Lincoln Square West</td>\n",
       "    </tr>\n",
       "    <tr>\n",
       "      <th>1</th>\n",
       "      <td>2</td>\n",
       "      <td>2023-01-02 18:56:58</td>\n",
       "      <td>2023-01-02 19:14:50</td>\n",
       "      <td>1</td>\n",
       "      <td>166</td>\n",
       "      <td>143</td>\n",
       "      <td>1</td>\n",
       "      <td>3.16</td>\n",
       "      <td>2</td>\n",
       "      <td>1</td>\n",
       "      <td>Morningside Heights</td>\n",
       "      <td>Lincoln Square West</td>\n",
       "    </tr>\n",
       "    <tr>\n",
       "      <th>2</th>\n",
       "      <td>2</td>\n",
       "      <td>2023-01-03 15:28:11</td>\n",
       "      <td>2023-01-03 15:47:47</td>\n",
       "      <td>1</td>\n",
       "      <td>166</td>\n",
       "      <td>143</td>\n",
       "      <td>1</td>\n",
       "      <td>2.55</td>\n",
       "      <td>1</td>\n",
       "      <td>1</td>\n",
       "      <td>Morningside Heights</td>\n",
       "      <td>Lincoln Square West</td>\n",
       "    </tr>\n",
       "    <tr>\n",
       "      <th>3</th>\n",
       "      <td>2</td>\n",
       "      <td>2023-01-03 17:37:14</td>\n",
       "      <td>2023-01-03 17:51:35</td>\n",
       "      <td>1</td>\n",
       "      <td>166</td>\n",
       "      <td>143</td>\n",
       "      <td>1</td>\n",
       "      <td>1.96</td>\n",
       "      <td>2</td>\n",
       "      <td>1</td>\n",
       "      <td>Morningside Heights</td>\n",
       "      <td>Lincoln Square West</td>\n",
       "    </tr>\n",
       "    <tr>\n",
       "      <th>4</th>\n",
       "      <td>1</td>\n",
       "      <td>2023-01-03 19:03:53</td>\n",
       "      <td>2023-01-03 19:17:50</td>\n",
       "      <td>1</td>\n",
       "      <td>166</td>\n",
       "      <td>143</td>\n",
       "      <td>2</td>\n",
       "      <td>2.10</td>\n",
       "      <td>2</td>\n",
       "      <td>1</td>\n",
       "      <td>Morningside Heights</td>\n",
       "      <td>Lincoln Square West</td>\n",
       "    </tr>\n",
       "    <tr>\n",
       "      <th>...</th>\n",
       "      <td>...</td>\n",
       "      <td>...</td>\n",
       "      <td>...</td>\n",
       "      <td>...</td>\n",
       "      <td>...</td>\n",
       "      <td>...</td>\n",
       "      <td>...</td>\n",
       "      <td>...</td>\n",
       "      <td>...</td>\n",
       "      <td>...</td>\n",
       "      <td>...</td>\n",
       "      <td>...</td>\n",
       "    </tr>\n",
       "    <tr>\n",
       "      <th>63871</th>\n",
       "      <td>2</td>\n",
       "      <td>2023-01-04 14:06:53</td>\n",
       "      <td>2023-01-04 14:15:41</td>\n",
       "      <td>1</td>\n",
       "      <td>206</td>\n",
       "      <td>206</td>\n",
       "      <td>1</td>\n",
       "      <td>1.40</td>\n",
       "      <td>2</td>\n",
       "      <td>1</td>\n",
       "      <td>Saint George/New Brighton</td>\n",
       "      <td>Saint George/New Brighton</td>\n",
       "    </tr>\n",
       "    <tr>\n",
       "      <th>63872</th>\n",
       "      <td>2</td>\n",
       "      <td>2023-01-11 17:18:54</td>\n",
       "      <td>2023-01-11 17:23:38</td>\n",
       "      <td>1</td>\n",
       "      <td>206</td>\n",
       "      <td>206</td>\n",
       "      <td>1</td>\n",
       "      <td>0.99</td>\n",
       "      <td>1</td>\n",
       "      <td>1</td>\n",
       "      <td>Saint George/New Brighton</td>\n",
       "      <td>Saint George/New Brighton</td>\n",
       "    </tr>\n",
       "    <tr>\n",
       "      <th>63873</th>\n",
       "      <td>2</td>\n",
       "      <td>2023-01-13 18:54:31</td>\n",
       "      <td>2023-01-13 19:14:38</td>\n",
       "      <td>1</td>\n",
       "      <td>206</td>\n",
       "      <td>187</td>\n",
       "      <td>1</td>\n",
       "      <td>5.52</td>\n",
       "      <td>2</td>\n",
       "      <td>1</td>\n",
       "      <td>Saint George/New Brighton</td>\n",
       "      <td>Port Richmond</td>\n",
       "    </tr>\n",
       "    <tr>\n",
       "      <th>63874</th>\n",
       "      <td>2</td>\n",
       "      <td>2023-01-18 14:37:37</td>\n",
       "      <td>2023-01-18 14:59:56</td>\n",
       "      <td>1</td>\n",
       "      <td>206</td>\n",
       "      <td>156</td>\n",
       "      <td>1</td>\n",
       "      <td>5.10</td>\n",
       "      <td>1</td>\n",
       "      <td>1</td>\n",
       "      <td>Saint George/New Brighton</td>\n",
       "      <td>Mariners Harbor</td>\n",
       "    </tr>\n",
       "    <tr>\n",
       "      <th>63875</th>\n",
       "      <td>2</td>\n",
       "      <td>2023-01-10 08:31:42</td>\n",
       "      <td>2023-01-10 08:49:38</td>\n",
       "      <td>1</td>\n",
       "      <td>221</td>\n",
       "      <td>115</td>\n",
       "      <td>6</td>\n",
       "      <td>1.85</td>\n",
       "      <td>1</td>\n",
       "      <td>1</td>\n",
       "      <td>Stapleton</td>\n",
       "      <td>Grymes Hill/Clifton</td>\n",
       "    </tr>\n",
       "  </tbody>\n",
       "</table>\n",
       "<p>63876 rows × 12 columns</p>\n",
       "</div>"
      ],
      "text/plain": [
       "       VendorID lpep_pickup_datetime lpep_dropoff_datetime  RatecodeID  \\\n",
       "0             2  2023-01-01 00:26:10   2023-01-01 00:37:11           1   \n",
       "1             2  2023-01-02 18:56:58   2023-01-02 19:14:50           1   \n",
       "2             2  2023-01-03 15:28:11   2023-01-03 15:47:47           1   \n",
       "3             2  2023-01-03 17:37:14   2023-01-03 17:51:35           1   \n",
       "4             1  2023-01-03 19:03:53   2023-01-03 19:17:50           1   \n",
       "...         ...                  ...                   ...         ...   \n",
       "63871         2  2023-01-04 14:06:53   2023-01-04 14:15:41           1   \n",
       "63872         2  2023-01-11 17:18:54   2023-01-11 17:23:38           1   \n",
       "63873         2  2023-01-13 18:54:31   2023-01-13 19:14:38           1   \n",
       "63874         2  2023-01-18 14:37:37   2023-01-18 14:59:56           1   \n",
       "63875         2  2023-01-10 08:31:42   2023-01-10 08:49:38           1   \n",
       "\n",
       "       PULocationID  DOLocationID  passenger_count  trip_distance  \\\n",
       "0               166           143                1           2.58   \n",
       "1               166           143                1           3.16   \n",
       "2               166           143                1           2.55   \n",
       "3               166           143                1           1.96   \n",
       "4               166           143                2           2.10   \n",
       "...             ...           ...              ...            ...   \n",
       "63871           206           206                1           1.40   \n",
       "63872           206           206                1           0.99   \n",
       "63873           206           187                1           5.52   \n",
       "63874           206           156                1           5.10   \n",
       "63875           221           115                6           1.85   \n",
       "\n",
       "       payment_type  trip_type                       Zone  \\\n",
       "0                 1          1        Morningside Heights   \n",
       "1                 2          1        Morningside Heights   \n",
       "2                 1          1        Morningside Heights   \n",
       "3                 2          1        Morningside Heights   \n",
       "4                 2          1        Morningside Heights   \n",
       "...             ...        ...                        ...   \n",
       "63871             2          1  Saint George/New Brighton   \n",
       "63872             1          1  Saint George/New Brighton   \n",
       "63873             2          1  Saint George/New Brighton   \n",
       "63874             1          1  Saint George/New Brighton   \n",
       "63875             1          1                  Stapleton   \n",
       "\n",
       "                       Drop_zone  \n",
       "0            Lincoln Square West  \n",
       "1            Lincoln Square West  \n",
       "2            Lincoln Square West  \n",
       "3            Lincoln Square West  \n",
       "4            Lincoln Square West  \n",
       "...                          ...  \n",
       "63871  Saint George/New Brighton  \n",
       "63872  Saint George/New Brighton  \n",
       "63873              Port Richmond  \n",
       "63874            Mariners Harbor  \n",
       "63875        Grymes Hill/Clifton  \n",
       "\n",
       "[63876 rows x 12 columns]"
      ]
     },
     "execution_count": 719,
     "metadata": {},
     "output_type": "execute_result"
    }
   ],
   "source": [
    "dfMapCity = pd.read_csv('taxi+_zone_lookup.csv')\n",
    "dfMapCity.rename({'LocationID' : 'PULocationID'},axis=1,inplace=True)\n",
    "df = pd.merge(df,dfMapCity[['PULocationID','Zone']],how='inner',on='PULocationID')\n",
    "\n",
    "dfMapCity = pd.read_csv('taxi+_zone_lookup.csv')\n",
    "dfMapCity['Drop_zone'] = dfMapCity['Zone']\n",
    "dfMapCity.rename({'LocationID' : 'DOLocationID'},axis=1,inplace=True)\n",
    "df = pd.merge(df,dfMapCity[['DOLocationID','Drop_zone']],how='inner',on='DOLocationID')\n",
    "df"
   ]
  },
  {
   "attachments": {},
   "cell_type": "markdown",
   "metadata": {},
   "source": [
    "membuat column baru bernama pickup_time agar saya dapat mengetahui order yang ada terjadi ketika rush/standard/overnight, dan menjadikannya kategorikal seperti ini mempermudah untuk analisis kedepan nanti."
   ]
  },
  {
   "cell_type": "code",
   "execution_count": 720,
   "metadata": {},
   "outputs": [],
   "source": [
    "# Define the time ranges\n",
    "rush_hour_start1 = datetime.time(6, 30)\n",
    "rush_hour_end1 = datetime.time(9, 30)\n",
    "rush_hour_start2 = datetime.time(16, 0)\n",
    "rush_hour_end2 = datetime.time(19, 0)\n",
    "\n",
    "# Define the function to categorize the pickup time\n",
    "def categorize_pickup_time(row):\n",
    "    pickup_time = row['lpep_pickup_datetime'].time()\n",
    "\n",
    "    if rush_hour_start1 <= pickup_time <= rush_hour_end1:\n",
    "        return 'Rush'\n",
    "    elif rush_hour_start2 <= pickup_time <= rush_hour_end2:\n",
    "        return 'EveningRush'\n",
    "    elif pickup_time >= datetime.time(0, 0) and pickup_time <= datetime.time(5, 0):\n",
    "        return 'Overnight'\n",
    "    else:\n",
    "        return 'Standard'\n",
    "\n",
    "# Apply the function to create the new column\n",
    "df['PUType'] = df.apply(categorize_pickup_time, axis=1)\n"
   ]
  },
  {
   "attachments": {},
   "cell_type": "markdown",
   "metadata": {},
   "source": [
    "membuat column passenger_type yang mengklasifikasi tipikal penumpang berdasarkan jumlah, tujuannya untuk melihat kedepannya apakah ada pattern-pattern atau adakah insight yang bisa kita ambil berdasarkan jumlah penumpang"
   ]
  },
  {
   "cell_type": "code",
   "execution_count": 2,
   "metadata": {},
   "outputs": [
    {
     "ename": "NameError",
     "evalue": "name 'df' is not defined",
     "output_type": "error",
     "traceback": [
      "\u001b[1;31m---------------------------------------------------------------------------\u001b[0m",
      "\u001b[1;31mNameError\u001b[0m                                 Traceback (most recent call last)",
      "Cell \u001b[1;32mIn[2], line 1\u001b[0m\n\u001b[1;32m----> 1\u001b[0m df[\u001b[39m'\u001b[39m\u001b[39mpassenger_type\u001b[39m\u001b[39m'\u001b[39m] \u001b[39m=\u001b[39m df[\u001b[39m'\u001b[39m\u001b[39mpassenger_count\u001b[39m\u001b[39m'\u001b[39m]\u001b[39m.\u001b[39mmap({\u001b[39m1\u001b[39m: \u001b[39m'\u001b[39m\u001b[39mSingle\u001b[39m\u001b[39m'\u001b[39m, \u001b[39m2\u001b[39m: \u001b[39m'\u001b[39m\u001b[39mDouble\u001b[39m\u001b[39m'\u001b[39m})\u001b[39m.\u001b[39mfillna(\u001b[39m'\u001b[39m\u001b[39mGroup\u001b[39m\u001b[39m'\u001b[39m)\n",
      "\u001b[1;31mNameError\u001b[0m: name 'df' is not defined"
     ]
    }
   ],
   "source": [
    "df['passenger_type'] = df['passenger_count'].map({1: 'Single', 2: 'Double'}).fillna('Group')"
   ]
  },
  {
   "attachments": {},
   "cell_type": "markdown",
   "metadata": {},
   "source": [
    "****REMOVE ANOMALI DATA****   "
   ]
  },
  {
   "attachments": {},
   "cell_type": "markdown",
   "metadata": {},
   "source": [
    "**menghapus data-data di passenger_count dan trip_distance yang memiliki value 0/negatif**"
   ]
  },
  {
   "cell_type": "code",
   "execution_count": 722,
   "metadata": {},
   "outputs": [],
   "source": [
    "df[df['passenger_count'] <= 0].count()\n",
    "df = df[df['passenger_count'] > 0]\n",
    "\n"
   ]
  },
  {
   "cell_type": "code",
   "execution_count": 723,
   "metadata": {},
   "outputs": [],
   "source": [
    "df[df['trip_distance'] <= 0].count()\n",
    "df = df[df['trip_distance'] > 0]\n"
   ]
  },
  {
   "attachments": {},
   "cell_type": "markdown",
   "metadata": {},
   "source": [
    "**melakukan check ada berapa bulan yang relevan dalam data**"
   ]
  },
  {
   "cell_type": "code",
   "execution_count": 724,
   "metadata": {},
   "outputs": [
    {
     "name": "stdout",
     "output_type": "stream",
     "text": [
      "[ 1 12  2]\n"
     ]
    }
   ],
   "source": [
    "df['pickup_month'] = pd.to_datetime(df['lpep_pickup_datetime']).dt.month\n",
    "\n",
    "# Get unique months\n",
    "unique_months = df['pickup_month'].unique()\n",
    "\n",
    "print(unique_months)"
   ]
  },
  {
   "attachments": {},
   "cell_type": "markdown",
   "metadata": {},
   "source": [
    "**menemukan insight bahwa ternyata persebaran data yang relevan ada di bulan Januari, karena di bulan februari dan desember hanya ada 3 total data**"
   ]
  },
  {
   "cell_type": "code",
   "execution_count": 725,
   "metadata": {},
   "outputs": [
    {
     "name": "stdout",
     "output_type": "stream",
     "text": [
      "1     60378\n",
      "12        2\n",
      "2         1\n",
      "Name: pickup_month, dtype: int64\n"
     ]
    }
   ],
   "source": [
    "# Extract month from datetime column\n",
    "df['pickup_month'] = pd.to_datetime(df['lpep_pickup_datetime']).dt.month\n",
    "\n",
    "# Count occurrences of each month\n",
    "month_counts = df['pickup_month'].value_counts()\n",
    "\n",
    "print(month_counts)"
   ]
  },
  {
   "attachments": {},
   "cell_type": "markdown",
   "metadata": {},
   "source": [
    "**menghapus bulan Februari dan Desember**"
   ]
  },
  {
   "cell_type": "code",
   "execution_count": 726,
   "metadata": {},
   "outputs": [
    {
     "data": {
      "text/html": [
       "<div>\n",
       "<style scoped>\n",
       "    .dataframe tbody tr th:only-of-type {\n",
       "        vertical-align: middle;\n",
       "    }\n",
       "\n",
       "    .dataframe tbody tr th {\n",
       "        vertical-align: top;\n",
       "    }\n",
       "\n",
       "    .dataframe thead th {\n",
       "        text-align: right;\n",
       "    }\n",
       "</style>\n",
       "<table border=\"1\" class=\"dataframe\">\n",
       "  <thead>\n",
       "    <tr style=\"text-align: right;\">\n",
       "      <th></th>\n",
       "      <th>VendorID</th>\n",
       "      <th>lpep_pickup_datetime</th>\n",
       "      <th>lpep_dropoff_datetime</th>\n",
       "      <th>RatecodeID</th>\n",
       "      <th>PULocationID</th>\n",
       "      <th>DOLocationID</th>\n",
       "      <th>passenger_count</th>\n",
       "      <th>trip_distance</th>\n",
       "      <th>payment_type</th>\n",
       "      <th>trip_type</th>\n",
       "      <th>Zone</th>\n",
       "      <th>Drop_zone</th>\n",
       "      <th>PUType</th>\n",
       "      <th>passenger_type</th>\n",
       "      <th>pickup_month</th>\n",
       "    </tr>\n",
       "  </thead>\n",
       "  <tbody>\n",
       "    <tr>\n",
       "      <th>0</th>\n",
       "      <td>2</td>\n",
       "      <td>2023-01-01 00:26:10</td>\n",
       "      <td>2023-01-01 00:37:11</td>\n",
       "      <td>1</td>\n",
       "      <td>166</td>\n",
       "      <td>143</td>\n",
       "      <td>1</td>\n",
       "      <td>2.58</td>\n",
       "      <td>1</td>\n",
       "      <td>1</td>\n",
       "      <td>Morningside Heights</td>\n",
       "      <td>Lincoln Square West</td>\n",
       "      <td>Overnight</td>\n",
       "      <td>Single</td>\n",
       "      <td>1</td>\n",
       "    </tr>\n",
       "    <tr>\n",
       "      <th>1</th>\n",
       "      <td>2</td>\n",
       "      <td>2023-01-02 18:56:58</td>\n",
       "      <td>2023-01-02 19:14:50</td>\n",
       "      <td>1</td>\n",
       "      <td>166</td>\n",
       "      <td>143</td>\n",
       "      <td>1</td>\n",
       "      <td>3.16</td>\n",
       "      <td>2</td>\n",
       "      <td>1</td>\n",
       "      <td>Morningside Heights</td>\n",
       "      <td>Lincoln Square West</td>\n",
       "      <td>EveningRush</td>\n",
       "      <td>Single</td>\n",
       "      <td>1</td>\n",
       "    </tr>\n",
       "    <tr>\n",
       "      <th>2</th>\n",
       "      <td>2</td>\n",
       "      <td>2023-01-03 15:28:11</td>\n",
       "      <td>2023-01-03 15:47:47</td>\n",
       "      <td>1</td>\n",
       "      <td>166</td>\n",
       "      <td>143</td>\n",
       "      <td>1</td>\n",
       "      <td>2.55</td>\n",
       "      <td>1</td>\n",
       "      <td>1</td>\n",
       "      <td>Morningside Heights</td>\n",
       "      <td>Lincoln Square West</td>\n",
       "      <td>Standard</td>\n",
       "      <td>Single</td>\n",
       "      <td>1</td>\n",
       "    </tr>\n",
       "    <tr>\n",
       "      <th>3</th>\n",
       "      <td>2</td>\n",
       "      <td>2023-01-03 17:37:14</td>\n",
       "      <td>2023-01-03 17:51:35</td>\n",
       "      <td>1</td>\n",
       "      <td>166</td>\n",
       "      <td>143</td>\n",
       "      <td>1</td>\n",
       "      <td>1.96</td>\n",
       "      <td>2</td>\n",
       "      <td>1</td>\n",
       "      <td>Morningside Heights</td>\n",
       "      <td>Lincoln Square West</td>\n",
       "      <td>EveningRush</td>\n",
       "      <td>Single</td>\n",
       "      <td>1</td>\n",
       "    </tr>\n",
       "    <tr>\n",
       "      <th>4</th>\n",
       "      <td>1</td>\n",
       "      <td>2023-01-03 19:03:53</td>\n",
       "      <td>2023-01-03 19:17:50</td>\n",
       "      <td>1</td>\n",
       "      <td>166</td>\n",
       "      <td>143</td>\n",
       "      <td>2</td>\n",
       "      <td>2.10</td>\n",
       "      <td>2</td>\n",
       "      <td>1</td>\n",
       "      <td>Morningside Heights</td>\n",
       "      <td>Lincoln Square West</td>\n",
       "      <td>Standard</td>\n",
       "      <td>Double</td>\n",
       "      <td>1</td>\n",
       "    </tr>\n",
       "    <tr>\n",
       "      <th>...</th>\n",
       "      <td>...</td>\n",
       "      <td>...</td>\n",
       "      <td>...</td>\n",
       "      <td>...</td>\n",
       "      <td>...</td>\n",
       "      <td>...</td>\n",
       "      <td>...</td>\n",
       "      <td>...</td>\n",
       "      <td>...</td>\n",
       "      <td>...</td>\n",
       "      <td>...</td>\n",
       "      <td>...</td>\n",
       "      <td>...</td>\n",
       "      <td>...</td>\n",
       "      <td>...</td>\n",
       "    </tr>\n",
       "    <tr>\n",
       "      <th>63871</th>\n",
       "      <td>2</td>\n",
       "      <td>2023-01-04 14:06:53</td>\n",
       "      <td>2023-01-04 14:15:41</td>\n",
       "      <td>1</td>\n",
       "      <td>206</td>\n",
       "      <td>206</td>\n",
       "      <td>1</td>\n",
       "      <td>1.40</td>\n",
       "      <td>2</td>\n",
       "      <td>1</td>\n",
       "      <td>Saint George/New Brighton</td>\n",
       "      <td>Saint George/New Brighton</td>\n",
       "      <td>Standard</td>\n",
       "      <td>Single</td>\n",
       "      <td>1</td>\n",
       "    </tr>\n",
       "    <tr>\n",
       "      <th>63872</th>\n",
       "      <td>2</td>\n",
       "      <td>2023-01-11 17:18:54</td>\n",
       "      <td>2023-01-11 17:23:38</td>\n",
       "      <td>1</td>\n",
       "      <td>206</td>\n",
       "      <td>206</td>\n",
       "      <td>1</td>\n",
       "      <td>0.99</td>\n",
       "      <td>1</td>\n",
       "      <td>1</td>\n",
       "      <td>Saint George/New Brighton</td>\n",
       "      <td>Saint George/New Brighton</td>\n",
       "      <td>EveningRush</td>\n",
       "      <td>Single</td>\n",
       "      <td>1</td>\n",
       "    </tr>\n",
       "    <tr>\n",
       "      <th>63873</th>\n",
       "      <td>2</td>\n",
       "      <td>2023-01-13 18:54:31</td>\n",
       "      <td>2023-01-13 19:14:38</td>\n",
       "      <td>1</td>\n",
       "      <td>206</td>\n",
       "      <td>187</td>\n",
       "      <td>1</td>\n",
       "      <td>5.52</td>\n",
       "      <td>2</td>\n",
       "      <td>1</td>\n",
       "      <td>Saint George/New Brighton</td>\n",
       "      <td>Port Richmond</td>\n",
       "      <td>EveningRush</td>\n",
       "      <td>Single</td>\n",
       "      <td>1</td>\n",
       "    </tr>\n",
       "    <tr>\n",
       "      <th>63874</th>\n",
       "      <td>2</td>\n",
       "      <td>2023-01-18 14:37:37</td>\n",
       "      <td>2023-01-18 14:59:56</td>\n",
       "      <td>1</td>\n",
       "      <td>206</td>\n",
       "      <td>156</td>\n",
       "      <td>1</td>\n",
       "      <td>5.10</td>\n",
       "      <td>1</td>\n",
       "      <td>1</td>\n",
       "      <td>Saint George/New Brighton</td>\n",
       "      <td>Mariners Harbor</td>\n",
       "      <td>Standard</td>\n",
       "      <td>Single</td>\n",
       "      <td>1</td>\n",
       "    </tr>\n",
       "    <tr>\n",
       "      <th>63875</th>\n",
       "      <td>2</td>\n",
       "      <td>2023-01-10 08:31:42</td>\n",
       "      <td>2023-01-10 08:49:38</td>\n",
       "      <td>1</td>\n",
       "      <td>221</td>\n",
       "      <td>115</td>\n",
       "      <td>6</td>\n",
       "      <td>1.85</td>\n",
       "      <td>1</td>\n",
       "      <td>1</td>\n",
       "      <td>Stapleton</td>\n",
       "      <td>Grymes Hill/Clifton</td>\n",
       "      <td>Rush</td>\n",
       "      <td>Group</td>\n",
       "      <td>1</td>\n",
       "    </tr>\n",
       "  </tbody>\n",
       "</table>\n",
       "<p>60378 rows × 15 columns</p>\n",
       "</div>"
      ],
      "text/plain": [
       "       VendorID lpep_pickup_datetime lpep_dropoff_datetime  RatecodeID  \\\n",
       "0             2  2023-01-01 00:26:10   2023-01-01 00:37:11           1   \n",
       "1             2  2023-01-02 18:56:58   2023-01-02 19:14:50           1   \n",
       "2             2  2023-01-03 15:28:11   2023-01-03 15:47:47           1   \n",
       "3             2  2023-01-03 17:37:14   2023-01-03 17:51:35           1   \n",
       "4             1  2023-01-03 19:03:53   2023-01-03 19:17:50           1   \n",
       "...         ...                  ...                   ...         ...   \n",
       "63871         2  2023-01-04 14:06:53   2023-01-04 14:15:41           1   \n",
       "63872         2  2023-01-11 17:18:54   2023-01-11 17:23:38           1   \n",
       "63873         2  2023-01-13 18:54:31   2023-01-13 19:14:38           1   \n",
       "63874         2  2023-01-18 14:37:37   2023-01-18 14:59:56           1   \n",
       "63875         2  2023-01-10 08:31:42   2023-01-10 08:49:38           1   \n",
       "\n",
       "       PULocationID  DOLocationID  passenger_count  trip_distance  \\\n",
       "0               166           143                1           2.58   \n",
       "1               166           143                1           3.16   \n",
       "2               166           143                1           2.55   \n",
       "3               166           143                1           1.96   \n",
       "4               166           143                2           2.10   \n",
       "...             ...           ...              ...            ...   \n",
       "63871           206           206                1           1.40   \n",
       "63872           206           206                1           0.99   \n",
       "63873           206           187                1           5.52   \n",
       "63874           206           156                1           5.10   \n",
       "63875           221           115                6           1.85   \n",
       "\n",
       "       payment_type  trip_type                       Zone  \\\n",
       "0                 1          1        Morningside Heights   \n",
       "1                 2          1        Morningside Heights   \n",
       "2                 1          1        Morningside Heights   \n",
       "3                 2          1        Morningside Heights   \n",
       "4                 2          1        Morningside Heights   \n",
       "...             ...        ...                        ...   \n",
       "63871             2          1  Saint George/New Brighton   \n",
       "63872             1          1  Saint George/New Brighton   \n",
       "63873             2          1  Saint George/New Brighton   \n",
       "63874             1          1  Saint George/New Brighton   \n",
       "63875             1          1                  Stapleton   \n",
       "\n",
       "                       Drop_zone       PUType passenger_type  pickup_month  \n",
       "0            Lincoln Square West    Overnight         Single             1  \n",
       "1            Lincoln Square West  EveningRush         Single             1  \n",
       "2            Lincoln Square West     Standard         Single             1  \n",
       "3            Lincoln Square West  EveningRush         Single             1  \n",
       "4            Lincoln Square West     Standard         Double             1  \n",
       "...                          ...          ...            ...           ...  \n",
       "63871  Saint George/New Brighton     Standard         Single             1  \n",
       "63872  Saint George/New Brighton  EveningRush         Single             1  \n",
       "63873              Port Richmond  EveningRush         Single             1  \n",
       "63874            Mariners Harbor     Standard         Single             1  \n",
       "63875        Grymes Hill/Clifton         Rush          Group             1  \n",
       "\n",
       "[60378 rows x 15 columns]"
      ]
     },
     "execution_count": 726,
     "metadata": {},
     "output_type": "execute_result"
    }
   ],
   "source": [
    "df = df[~df['pickup_month'].isin([12, 2])]\n",
    "df"
   ]
  },
  {
   "attachments": {},
   "cell_type": "markdown",
   "metadata": {},
   "source": [
    "****DATA ANALYSIS****"
   ]
  },
  {
   "attachments": {},
   "cell_type": "markdown",
   "metadata": {},
   "source": [
    "***Disini kita melakukan analisis dengan cara:***\n",
    "1. melakukan sorting 5 daerah dengan highest order\n",
    "2. melakukan check perbandingan order antar Vendor\n",
    "3. menghitung persentase kedua belah Vendor\n",
    "4. melakukan check masih adakah wilayah-wilayah yang masih dibawah rata-rata persentase"
   ]
  },
  {
   "cell_type": "code",
   "execution_count": 727,
   "metadata": {},
   "outputs": [
    {
     "data": {
      "text/plain": [
       "count      184.000000\n",
       "mean       328.010870\n",
       "std       1266.735631\n",
       "min          1.000000\n",
       "25%          4.750000\n",
       "50%         11.500000\n",
       "75%         64.000000\n",
       "max      12713.000000\n",
       "dtype: float64"
      ]
     },
     "execution_count": 727,
     "metadata": {},
     "output_type": "execute_result"
    }
   ],
   "source": [
    "df[['Zone']].value_counts().describe()"
   ]
  },
  {
   "attachments": {},
   "cell_type": "markdown",
   "metadata": {},
   "source": [
    "**show 10 zone dengan highest frequent**"
   ]
  },
  {
   "attachments": {},
   "cell_type": "markdown",
   "metadata": {},
   "source": [
    "dapat dilihat kota dengan highest order ada di east harlem north,south dan forest hills, central harlem. morningside heights. dari 5 data itu kita akan olah dan akan kita lihat adakah insight yang bisa diambil"
   ]
  },
  {
   "cell_type": "code",
   "execution_count": 728,
   "metadata": {},
   "outputs": [
    {
     "data": {
      "text/html": [
       "<div>\n",
       "<style scoped>\n",
       "    .dataframe tbody tr th:only-of-type {\n",
       "        vertical-align: middle;\n",
       "    }\n",
       "\n",
       "    .dataframe tbody tr th {\n",
       "        vertical-align: top;\n",
       "    }\n",
       "\n",
       "    .dataframe thead th {\n",
       "        text-align: right;\n",
       "    }\n",
       "</style>\n",
       "<table border=\"1\" class=\"dataframe\">\n",
       "  <thead>\n",
       "    <tr style=\"text-align: right;\">\n",
       "      <th></th>\n",
       "      <th>Zone</th>\n",
       "      <th>0</th>\n",
       "    </tr>\n",
       "  </thead>\n",
       "  <tbody>\n",
       "    <tr>\n",
       "      <th>0</th>\n",
       "      <td>East Harlem North</td>\n",
       "      <td>12713</td>\n",
       "    </tr>\n",
       "    <tr>\n",
       "      <th>1</th>\n",
       "      <td>East Harlem South</td>\n",
       "      <td>8626</td>\n",
       "    </tr>\n",
       "    <tr>\n",
       "      <th>2</th>\n",
       "      <td>Forest Hills</td>\n",
       "      <td>3680</td>\n",
       "    </tr>\n",
       "    <tr>\n",
       "      <th>3</th>\n",
       "      <td>Central Harlem</td>\n",
       "      <td>3637</td>\n",
       "    </tr>\n",
       "    <tr>\n",
       "      <th>4</th>\n",
       "      <td>Morningside Heights</td>\n",
       "      <td>3576</td>\n",
       "    </tr>\n",
       "    <tr>\n",
       "      <th>5</th>\n",
       "      <td>Central Park</td>\n",
       "      <td>2831</td>\n",
       "    </tr>\n",
       "    <tr>\n",
       "      <th>6</th>\n",
       "      <td>Elmhurst</td>\n",
       "      <td>2791</td>\n",
       "    </tr>\n",
       "    <tr>\n",
       "      <th>7</th>\n",
       "      <td>Fort Greene</td>\n",
       "      <td>2079</td>\n",
       "    </tr>\n",
       "    <tr>\n",
       "      <th>8</th>\n",
       "      <td>Astoria</td>\n",
       "      <td>1639</td>\n",
       "    </tr>\n",
       "    <tr>\n",
       "      <th>9</th>\n",
       "      <td>Washington Heights South</td>\n",
       "      <td>1606</td>\n",
       "    </tr>\n",
       "  </tbody>\n",
       "</table>\n",
       "</div>"
      ],
      "text/plain": [
       "                       Zone      0\n",
       "0         East Harlem North  12713\n",
       "1         East Harlem South   8626\n",
       "2              Forest Hills   3680\n",
       "3            Central Harlem   3637\n",
       "4       Morningside Heights   3576\n",
       "5              Central Park   2831\n",
       "6                  Elmhurst   2791\n",
       "7               Fort Greene   2079\n",
       "8                   Astoria   1639\n",
       "9  Washington Heights South   1606"
      ]
     },
     "execution_count": 728,
     "metadata": {},
     "output_type": "execute_result"
    }
   ],
   "source": [
    "pd.DataFrame(df[['Zone']].value_counts().head(10)).reset_index()"
   ]
  },
  {
   "attachments": {},
   "cell_type": "markdown",
   "metadata": {},
   "source": [
    "**show value count setiap zone agar terlihat perbandingan antar vendorID nya**"
   ]
  },
  {
   "cell_type": "code",
   "execution_count": 729,
   "metadata": {},
   "outputs": [
    {
     "data": {
      "text/html": [
       "<div>\n",
       "<style scoped>\n",
       "    .dataframe tbody tr th:only-of-type {\n",
       "        vertical-align: middle;\n",
       "    }\n",
       "\n",
       "    .dataframe tbody tr th {\n",
       "        vertical-align: top;\n",
       "    }\n",
       "\n",
       "    .dataframe thead th {\n",
       "        text-align: right;\n",
       "    }\n",
       "</style>\n",
       "<table border=\"1\" class=\"dataframe\">\n",
       "  <thead>\n",
       "    <tr style=\"text-align: right;\">\n",
       "      <th></th>\n",
       "      <th>Zone</th>\n",
       "      <th>VendorID</th>\n",
       "      <th>0</th>\n",
       "    </tr>\n",
       "  </thead>\n",
       "  <tbody>\n",
       "    <tr>\n",
       "      <th>0</th>\n",
       "      <td>East Harlem North</td>\n",
       "      <td>2</td>\n",
       "      <td>10384</td>\n",
       "    </tr>\n",
       "    <tr>\n",
       "      <th>1</th>\n",
       "      <td>East Harlem North</td>\n",
       "      <td>1</td>\n",
       "      <td>2329</td>\n",
       "    </tr>\n",
       "  </tbody>\n",
       "</table>\n",
       "</div>"
      ],
      "text/plain": [
       "                Zone  VendorID      0\n",
       "0  East Harlem North         2  10384\n",
       "1  East Harlem North         1   2329"
      ]
     },
     "metadata": {},
     "output_type": "display_data"
    },
    {
     "data": {
      "text/html": [
       "<div>\n",
       "<style scoped>\n",
       "    .dataframe tbody tr th:only-of-type {\n",
       "        vertical-align: middle;\n",
       "    }\n",
       "\n",
       "    .dataframe tbody tr th {\n",
       "        vertical-align: top;\n",
       "    }\n",
       "\n",
       "    .dataframe thead th {\n",
       "        text-align: right;\n",
       "    }\n",
       "</style>\n",
       "<table border=\"1\" class=\"dataframe\">\n",
       "  <thead>\n",
       "    <tr style=\"text-align: right;\">\n",
       "      <th></th>\n",
       "      <th>Zone</th>\n",
       "      <th>VendorID</th>\n",
       "      <th>0</th>\n",
       "    </tr>\n",
       "  </thead>\n",
       "  <tbody>\n",
       "    <tr>\n",
       "      <th>0</th>\n",
       "      <td>East Harlem South</td>\n",
       "      <td>2</td>\n",
       "      <td>7546</td>\n",
       "    </tr>\n",
       "    <tr>\n",
       "      <th>1</th>\n",
       "      <td>East Harlem South</td>\n",
       "      <td>1</td>\n",
       "      <td>1080</td>\n",
       "    </tr>\n",
       "  </tbody>\n",
       "</table>\n",
       "</div>"
      ],
      "text/plain": [
       "                Zone  VendorID     0\n",
       "0  East Harlem South         2  7546\n",
       "1  East Harlem South         1  1080"
      ]
     },
     "metadata": {},
     "output_type": "display_data"
    },
    {
     "data": {
      "text/html": [
       "<div>\n",
       "<style scoped>\n",
       "    .dataframe tbody tr th:only-of-type {\n",
       "        vertical-align: middle;\n",
       "    }\n",
       "\n",
       "    .dataframe tbody tr th {\n",
       "        vertical-align: top;\n",
       "    }\n",
       "\n",
       "    .dataframe thead th {\n",
       "        text-align: right;\n",
       "    }\n",
       "</style>\n",
       "<table border=\"1\" class=\"dataframe\">\n",
       "  <thead>\n",
       "    <tr style=\"text-align: right;\">\n",
       "      <th></th>\n",
       "      <th>Zone</th>\n",
       "      <th>VendorID</th>\n",
       "      <th>0</th>\n",
       "    </tr>\n",
       "  </thead>\n",
       "  <tbody>\n",
       "    <tr>\n",
       "      <th>0</th>\n",
       "      <td>Forest Hills</td>\n",
       "      <td>2</td>\n",
       "      <td>3602</td>\n",
       "    </tr>\n",
       "    <tr>\n",
       "      <th>1</th>\n",
       "      <td>Forest Hills</td>\n",
       "      <td>1</td>\n",
       "      <td>78</td>\n",
       "    </tr>\n",
       "  </tbody>\n",
       "</table>\n",
       "</div>"
      ],
      "text/plain": [
       "           Zone  VendorID     0\n",
       "0  Forest Hills         2  3602\n",
       "1  Forest Hills         1    78"
      ]
     },
     "metadata": {},
     "output_type": "display_data"
    },
    {
     "data": {
      "text/html": [
       "<div>\n",
       "<style scoped>\n",
       "    .dataframe tbody tr th:only-of-type {\n",
       "        vertical-align: middle;\n",
       "    }\n",
       "\n",
       "    .dataframe tbody tr th {\n",
       "        vertical-align: top;\n",
       "    }\n",
       "\n",
       "    .dataframe thead th {\n",
       "        text-align: right;\n",
       "    }\n",
       "</style>\n",
       "<table border=\"1\" class=\"dataframe\">\n",
       "  <thead>\n",
       "    <tr style=\"text-align: right;\">\n",
       "      <th></th>\n",
       "      <th>Zone</th>\n",
       "      <th>VendorID</th>\n",
       "      <th>0</th>\n",
       "    </tr>\n",
       "  </thead>\n",
       "  <tbody>\n",
       "    <tr>\n",
       "      <th>0</th>\n",
       "      <td>Central Harlem</td>\n",
       "      <td>2</td>\n",
       "      <td>3280</td>\n",
       "    </tr>\n",
       "    <tr>\n",
       "      <th>1</th>\n",
       "      <td>Central Harlem</td>\n",
       "      <td>1</td>\n",
       "      <td>357</td>\n",
       "    </tr>\n",
       "  </tbody>\n",
       "</table>\n",
       "</div>"
      ],
      "text/plain": [
       "             Zone  VendorID     0\n",
       "0  Central Harlem         2  3280\n",
       "1  Central Harlem         1   357"
      ]
     },
     "metadata": {},
     "output_type": "display_data"
    },
    {
     "data": {
      "text/html": [
       "<div>\n",
       "<style scoped>\n",
       "    .dataframe tbody tr th:only-of-type {\n",
       "        vertical-align: middle;\n",
       "    }\n",
       "\n",
       "    .dataframe tbody tr th {\n",
       "        vertical-align: top;\n",
       "    }\n",
       "\n",
       "    .dataframe thead th {\n",
       "        text-align: right;\n",
       "    }\n",
       "</style>\n",
       "<table border=\"1\" class=\"dataframe\">\n",
       "  <thead>\n",
       "    <tr style=\"text-align: right;\">\n",
       "      <th></th>\n",
       "      <th>Zone</th>\n",
       "      <th>VendorID</th>\n",
       "      <th>0</th>\n",
       "    </tr>\n",
       "  </thead>\n",
       "  <tbody>\n",
       "    <tr>\n",
       "      <th>0</th>\n",
       "      <td>Morningside Heights</td>\n",
       "      <td>2</td>\n",
       "      <td>3174</td>\n",
       "    </tr>\n",
       "    <tr>\n",
       "      <th>1</th>\n",
       "      <td>Morningside Heights</td>\n",
       "      <td>1</td>\n",
       "      <td>402</td>\n",
       "    </tr>\n",
       "  </tbody>\n",
       "</table>\n",
       "</div>"
      ],
      "text/plain": [
       "                  Zone  VendorID     0\n",
       "0  Morningside Heights         2  3174\n",
       "1  Morningside Heights         1   402"
      ]
     },
     "metadata": {},
     "output_type": "display_data"
    }
   ],
   "source": [
    "display(pd.DataFrame(df[df['Zone']=='East Harlem North'][['Zone','VendorID']].value_counts().reset_index()))\n",
    "display(pd.DataFrame(df[df['Zone']=='East Harlem South'][['Zone','VendorID']].value_counts().reset_index()))\n",
    "display(pd.DataFrame(df[df['Zone']=='Forest Hills'][['Zone','VendorID']].value_counts().reset_index()))\n",
    "display(pd.DataFrame(df[df['Zone']=='Central Harlem'][['Zone','VendorID']].value_counts().reset_index()))\n",
    "display(pd.DataFrame(df[df['Zone']=='Morningside Heights'][['Zone','VendorID']].value_counts().reset_index()))\n",
    "\n",
    "\n",
    "\n"
   ]
  },
  {
   "attachments": {},
   "cell_type": "markdown",
   "metadata": {},
   "source": [
    "**Persentase Vendor ID 1 di 5 kota dengan highest frequent**"
   ]
  },
  {
   "attachments": {},
   "cell_type": "markdown",
   "metadata": {},
   "source": [
    "didapatkan persentase Vendor 1 terhadap Vendor 2 dari 5 kota tersebut yaitu:\n",
    "East harlem North : 18%\n",
    "East harlem South : 12%\n",
    "Forest hills : 2%\n",
    "Central Harlem : 9%\n",
    "Morningside heights : 11%\n",
    "\n",
    "dari 5 data diatas bisa kita tarik persentase keseluruhan vendor 1 pada 5 kota tersebut ada : 10%, maka dari itu insight yang bisa kita ambil adalah masih adanya order yang masih dibawah rata-rata, maka dari itu saran kita adalah memperbanyak armada atau di daerah tersebut sehingga minimal-nya dapat menyentuh rata-rata yaitu 10%"
   ]
  },
  {
   "cell_type": "code",
   "execution_count": 730,
   "metadata": {},
   "outputs": [
    {
     "name": "stdout",
     "output_type": "stream",
     "text": [
      "18.319830095178162\n",
      "12.520287502898213\n",
      "2.119565217391304\n",
      "9.815782238108332\n",
      "11.241610738255034\n"
     ]
    }
   ],
   "source": [
    "EHN_PERCENTAGE = df[(df['Zone']=='East Harlem North') & (df['VendorID']==1)]['VendorID'].count() / df[df['Zone']=='East Harlem North']['VendorID'].count()\n",
    "EHS_PERCENTAGE = df[(df['Zone']=='East Harlem South') & (df['VendorID']==1)]['VendorID'].count() / df[df['Zone']=='East Harlem South']['VendorID'].count()\n",
    "FH_PERCENTAGE = df[(df['Zone']=='Forest Hills') & (df['VendorID']==1)]['VendorID'].count() / df[df['Zone']=='Forest Hills']['VendorID'].count()\n",
    "CH_PERCENTAGE = df[(df['Zone']=='Central Harlem') & (df['VendorID']==1)]['VendorID'].count() / df[df['Zone']=='Central Harlem']['VendorID'].count()\n",
    "MH_PERCENTAGE = df[(df['Zone']=='Morningside Heights') & (df['VendorID']==1)]['VendorID'].count() / df[df['Zone']=='Morningside Heights']['VendorID'].count()\n",
    "\n",
    "print(EHN_PERCENTAGE*100)\n",
    "print(EHS_PERCENTAGE*100)\n",
    "print(FH_PERCENTAGE*100)\n",
    "print(CH_PERCENTAGE*100)\n",
    "print(MH_PERCENTAGE*100)"
   ]
  },
  {
   "attachments": {},
   "cell_type": "markdown",
   "metadata": {},
   "source": [
    "**Mencari rata-rata persentase VendorID 1 di 5 kota tersebut**"
   ]
  },
  {
   "cell_type": "code",
   "execution_count": 731,
   "metadata": {},
   "outputs": [
    {
     "name": "stdout",
     "output_type": "stream",
     "text": [
      "0.1080341515836621\n"
     ]
    }
   ],
   "source": [
    "print((EHN_PERCENTAGE+EHS_PERCENTAGE+FH_PERCENTAGE+CH_PERCENTAGE+MH_PERCENTAGE)/5)"
   ]
  },
  {
   "attachments": {},
   "cell_type": "markdown",
   "metadata": {},
   "source": [
    "**show 10 zone dengan lowest frequent**"
   ]
  },
  {
   "attachments": {},
   "cell_type": "markdown",
   "metadata": {},
   "source": [
    "melakukan hal yang sama seperti metode sebelumnya hanya saja disini kita melakukannya dengan urutan terendah, kita dapat melihat bahwa masih banyak kota-kota yang belom tersentuh oleh vendor 1, maka dari itu rekomendasi yang kita lakukan adalah mulai masuknya armada-armada ke daerah tersebut"
   ]
  },
  {
   "cell_type": "code",
   "execution_count": 732,
   "metadata": {},
   "outputs": [
    {
     "data": {
      "text/html": [
       "<div>\n",
       "<style scoped>\n",
       "    .dataframe tbody tr th:only-of-type {\n",
       "        vertical-align: middle;\n",
       "    }\n",
       "\n",
       "    .dataframe tbody tr th {\n",
       "        vertical-align: top;\n",
       "    }\n",
       "\n",
       "    .dataframe thead th {\n",
       "        text-align: right;\n",
       "    }\n",
       "</style>\n",
       "<table border=\"1\" class=\"dataframe\">\n",
       "  <thead>\n",
       "    <tr style=\"text-align: right;\">\n",
       "      <th></th>\n",
       "      <th>0</th>\n",
       "    </tr>\n",
       "    <tr>\n",
       "      <th>Zone</th>\n",
       "      <th></th>\n",
       "    </tr>\n",
       "  </thead>\n",
       "  <tbody>\n",
       "    <tr>\n",
       "      <th>Breezy Point/Fort Tilden/Riis Beach</th>\n",
       "      <td>1</td>\n",
       "    </tr>\n",
       "    <tr>\n",
       "      <th>Pelham Bay</th>\n",
       "      <td>1</td>\n",
       "    </tr>\n",
       "    <tr>\n",
       "      <th>Hammels/Arverne</th>\n",
       "      <td>1</td>\n",
       "    </tr>\n",
       "    <tr>\n",
       "      <th>Oakland Gardens</th>\n",
       "      <td>1</td>\n",
       "    </tr>\n",
       "    <tr>\n",
       "      <th>Westerleigh</th>\n",
       "      <td>1</td>\n",
       "    </tr>\n",
       "    <tr>\n",
       "      <th>Midtown Center</th>\n",
       "      <td>1</td>\n",
       "    </tr>\n",
       "    <tr>\n",
       "      <th>Howard Beach</th>\n",
       "      <td>1</td>\n",
       "    </tr>\n",
       "    <tr>\n",
       "      <th>Dyker Heights</th>\n",
       "      <td>1</td>\n",
       "    </tr>\n",
       "    <tr>\n",
       "      <th>West Brighton</th>\n",
       "      <td>1</td>\n",
       "    </tr>\n",
       "    <tr>\n",
       "      <th>Schuylerville/Edgewater Park</th>\n",
       "      <td>1</td>\n",
       "    </tr>\n",
       "  </tbody>\n",
       "</table>\n",
       "</div>"
      ],
      "text/plain": [
       "                                     0\n",
       "Zone                                  \n",
       "Breezy Point/Fort Tilden/Riis Beach  1\n",
       "Pelham Bay                           1\n",
       "Hammels/Arverne                      1\n",
       "Oakland Gardens                      1\n",
       "Westerleigh                          1\n",
       "Midtown Center                       1\n",
       "Howard Beach                         1\n",
       "Dyker Heights                        1\n",
       "West Brighton                        1\n",
       "Schuylerville/Edgewater Park         1"
      ]
     },
     "execution_count": 732,
     "metadata": {},
     "output_type": "execute_result"
    }
   ],
   "source": [
    "pd.DataFrame(df[['Zone']].value_counts().tail(10))"
   ]
  },
  {
   "cell_type": "code",
   "execution_count": 733,
   "metadata": {},
   "outputs": [
    {
     "data": {
      "text/html": [
       "<div>\n",
       "<style scoped>\n",
       "    .dataframe tbody tr th:only-of-type {\n",
       "        vertical-align: middle;\n",
       "    }\n",
       "\n",
       "    .dataframe tbody tr th {\n",
       "        vertical-align: top;\n",
       "    }\n",
       "\n",
       "    .dataframe thead th {\n",
       "        text-align: right;\n",
       "    }\n",
       "</style>\n",
       "<table border=\"1\" class=\"dataframe\">\n",
       "  <thead>\n",
       "    <tr style=\"text-align: right;\">\n",
       "      <th></th>\n",
       "      <th>Zone</th>\n",
       "      <th>VendorID</th>\n",
       "      <th>0</th>\n",
       "    </tr>\n",
       "  </thead>\n",
       "  <tbody>\n",
       "    <tr>\n",
       "      <th>0</th>\n",
       "      <td>Dyker Heights</td>\n",
       "      <td>2</td>\n",
       "      <td>1</td>\n",
       "    </tr>\n",
       "  </tbody>\n",
       "</table>\n",
       "</div>"
      ],
      "text/plain": [
       "            Zone  VendorID  0\n",
       "0  Dyker Heights         2  1"
      ]
     },
     "metadata": {},
     "output_type": "display_data"
    },
    {
     "data": {
      "text/html": [
       "<div>\n",
       "<style scoped>\n",
       "    .dataframe tbody tr th:only-of-type {\n",
       "        vertical-align: middle;\n",
       "    }\n",
       "\n",
       "    .dataframe tbody tr th {\n",
       "        vertical-align: top;\n",
       "    }\n",
       "\n",
       "    .dataframe thead th {\n",
       "        text-align: right;\n",
       "    }\n",
       "</style>\n",
       "<table border=\"1\" class=\"dataframe\">\n",
       "  <thead>\n",
       "    <tr style=\"text-align: right;\">\n",
       "      <th></th>\n",
       "      <th>Zone</th>\n",
       "      <th>VendorID</th>\n",
       "      <th>0</th>\n",
       "    </tr>\n",
       "  </thead>\n",
       "  <tbody>\n",
       "    <tr>\n",
       "      <th>0</th>\n",
       "      <td>Pelham Bay</td>\n",
       "      <td>2</td>\n",
       "      <td>1</td>\n",
       "    </tr>\n",
       "  </tbody>\n",
       "</table>\n",
       "</div>"
      ],
      "text/plain": [
       "         Zone  VendorID  0\n",
       "0  Pelham Bay         2  1"
      ]
     },
     "metadata": {},
     "output_type": "display_data"
    },
    {
     "data": {
      "text/html": [
       "<div>\n",
       "<style scoped>\n",
       "    .dataframe tbody tr th:only-of-type {\n",
       "        vertical-align: middle;\n",
       "    }\n",
       "\n",
       "    .dataframe tbody tr th {\n",
       "        vertical-align: top;\n",
       "    }\n",
       "\n",
       "    .dataframe thead th {\n",
       "        text-align: right;\n",
       "    }\n",
       "</style>\n",
       "<table border=\"1\" class=\"dataframe\">\n",
       "  <thead>\n",
       "    <tr style=\"text-align: right;\">\n",
       "      <th></th>\n",
       "      <th>Zone</th>\n",
       "      <th>VendorID</th>\n",
       "      <th>0</th>\n",
       "    </tr>\n",
       "  </thead>\n",
       "  <tbody>\n",
       "    <tr>\n",
       "      <th>0</th>\n",
       "      <td>Greenwich Village South</td>\n",
       "      <td>2</td>\n",
       "      <td>1</td>\n",
       "    </tr>\n",
       "  </tbody>\n",
       "</table>\n",
       "</div>"
      ],
      "text/plain": [
       "                      Zone  VendorID  0\n",
       "0  Greenwich Village South         2  1"
      ]
     },
     "metadata": {},
     "output_type": "display_data"
    },
    {
     "data": {
      "text/html": [
       "<div>\n",
       "<style scoped>\n",
       "    .dataframe tbody tr th:only-of-type {\n",
       "        vertical-align: middle;\n",
       "    }\n",
       "\n",
       "    .dataframe tbody tr th {\n",
       "        vertical-align: top;\n",
       "    }\n",
       "\n",
       "    .dataframe thead th {\n",
       "        text-align: right;\n",
       "    }\n",
       "</style>\n",
       "<table border=\"1\" class=\"dataframe\">\n",
       "  <thead>\n",
       "    <tr style=\"text-align: right;\">\n",
       "      <th></th>\n",
       "      <th>Zone</th>\n",
       "      <th>VendorID</th>\n",
       "      <th>0</th>\n",
       "    </tr>\n",
       "  </thead>\n",
       "  <tbody>\n",
       "    <tr>\n",
       "      <th>0</th>\n",
       "      <td>Oakland Gardens</td>\n",
       "      <td>2</td>\n",
       "      <td>1</td>\n",
       "    </tr>\n",
       "  </tbody>\n",
       "</table>\n",
       "</div>"
      ],
      "text/plain": [
       "              Zone  VendorID  0\n",
       "0  Oakland Gardens         2  1"
      ]
     },
     "metadata": {},
     "output_type": "display_data"
    },
    {
     "data": {
      "text/html": [
       "<div>\n",
       "<style scoped>\n",
       "    .dataframe tbody tr th:only-of-type {\n",
       "        vertical-align: middle;\n",
       "    }\n",
       "\n",
       "    .dataframe tbody tr th {\n",
       "        vertical-align: top;\n",
       "    }\n",
       "\n",
       "    .dataframe thead th {\n",
       "        text-align: right;\n",
       "    }\n",
       "</style>\n",
       "<table border=\"1\" class=\"dataframe\">\n",
       "  <thead>\n",
       "    <tr style=\"text-align: right;\">\n",
       "      <th></th>\n",
       "      <th>Zone</th>\n",
       "      <th>VendorID</th>\n",
       "      <th>0</th>\n",
       "    </tr>\n",
       "  </thead>\n",
       "  <tbody>\n",
       "    <tr>\n",
       "      <th>0</th>\n",
       "      <td>Ocean Hill</td>\n",
       "      <td>2</td>\n",
       "      <td>4</td>\n",
       "    </tr>\n",
       "    <tr>\n",
       "      <th>1</th>\n",
       "      <td>Ocean Hill</td>\n",
       "      <td>1</td>\n",
       "      <td>1</td>\n",
       "    </tr>\n",
       "  </tbody>\n",
       "</table>\n",
       "</div>"
      ],
      "text/plain": [
       "         Zone  VendorID  0\n",
       "0  Ocean Hill         2  4\n",
       "1  Ocean Hill         1  1"
      ]
     },
     "metadata": {},
     "output_type": "display_data"
    }
   ],
   "source": [
    "display(pd.DataFrame(df[df['Zone']=='Dyker Heights'][['Zone','VendorID']].value_counts().reset_index()))\n",
    "display(pd.DataFrame(df[df['Zone']=='Pelham Bay'][['Zone','VendorID']].value_counts().reset_index()))\n",
    "display(pd.DataFrame(df[df['Zone']=='Greenwich Village South'][['Zone','VendorID']].value_counts().reset_index()))\n",
    "display(pd.DataFrame(df[df['Zone']=='Oakland Gardens'][['Zone','VendorID']].value_counts().reset_index()))\n",
    "display(pd.DataFrame(df[df['Zone']=='Ocean Hill'][['Zone','VendorID']].value_counts().reset_index()))\n",
    "\n",
    "\n",
    "\n"
   ]
  },
  {
   "attachments": {},
   "cell_type": "markdown",
   "metadata": {},
   "source": [
    "****RESET ACAK****"
   ]
  },
  {
   "attachments": {},
   "cell_type": "markdown",
   "metadata": {},
   "source": [
    "****RESET 1****"
   ]
  },
  {
   "attachments": {},
   "cell_type": "markdown",
   "metadata": {},
   "source": [
    "disini saya mencoba melakukan analisa terkait passenger_type, tujuannya melihat apakah ada kecenderungan tertentu passenger_type terhadap vendor. misalnya apakah penumpang yang berdua cenderung lebih suka naik taxi dari vendor 1, atau penumpang group lebih suka memilih vendor 2. namun setelah dilakukan analisa ternyata tidak ada perbedaan. pattern yang didapatkan antar kedua vendor sangat mirip"
   ]
  },
  {
   "cell_type": "code",
   "execution_count": 734,
   "metadata": {},
   "outputs": [
    {
     "data": {
      "text/plain": [
       "VendorID  passenger_type\n",
       "1         Single             6396\n",
       "          Double              825\n",
       "          Group               206\n",
       "2         Single            44988\n",
       "          Double             4108\n",
       "          Group              3855\n",
       "Name: passenger_type, dtype: int64"
      ]
     },
     "execution_count": 734,
     "metadata": {},
     "output_type": "execute_result"
    }
   ],
   "source": [
    "passenger_vendor_counts = df.groupby('VendorID')['passenger_type'].value_counts()\n",
    "passenger_vendor_counts"
   ]
  },
  {
   "cell_type": "code",
   "execution_count": 736,
   "metadata": {},
   "outputs": [
    {
     "name": "stdout",
     "output_type": "stream",
     "text": [
      "Percentage of Single passengers: 86.12%\n",
      "Percentage of Double passengers: 11.11%\n",
      "Percentage of Group passengers: 2.77%\n"
     ]
    }
   ],
   "source": [
    "passenger_counts = df[df['VendorID'] == 1]['passenger_type'].value_counts()\n",
    "total_count = passenger_counts.sum()\n",
    "\n",
    "percentage_single = (passenger_counts['Single'] / total_count) * 100\n",
    "percentage_double = (passenger_counts['Double'] / total_count) * 100\n",
    "percentage_group = (passenger_counts['Group'] / total_count) * 100\n",
    "\n",
    "print(\"Percentage of Single passengers: {:.2f}%\".format(percentage_single))\n",
    "print(\"Percentage of Double passengers: {:.2f}%\".format(percentage_double))\n",
    "print(\"Percentage of Group passengers: {:.2f}%\".format(percentage_group))\n"
   ]
  },
  {
   "cell_type": "code",
   "execution_count": 737,
   "metadata": {},
   "outputs": [
    {
     "name": "stdout",
     "output_type": "stream",
     "text": [
      "Percentage of Single passengers for VendorID = 2: 84.96%\n",
      "Percentage of Double passengers for VendorID = 2: 7.76%\n",
      "Percentage of Group passengers for VendorID = 2: 7.28%\n"
     ]
    }
   ],
   "source": [
    "passenger_counts_dua = df[df['VendorID'] == 2]['passenger_type'].value_counts()\n",
    "total_count_dua = passenger_counts_dua.sum()\n",
    "\n",
    "percentage_single_dua = (passenger_counts_dua['Single'] / total_count_dua) * 100\n",
    "percentage_double_dua = (passenger_counts_dua['Double'] / total_count_dua) * 100\n",
    "percentage_group_dua = (passenger_counts_dua['Group'] / total_count_dua) * 100\n",
    "\n",
    "print(\"Percentage of Single passengers for VendorID = 2: {:.2f}%\".format(percentage_single_dua))\n",
    "print(\"Percentage of Double passengers for VendorID = 2: {:.2f}%\".format(percentage_double_dua))\n",
    "print(\"Percentage of Group passengers for VendorID = 2: {:.2f}%\".format(percentage_group_dua))\n"
   ]
  },
  {
   "attachments": {},
   "cell_type": "markdown",
   "metadata": {},
   "source": [
    "****RESET 2****"
   ]
  },
  {
   "attachments": {},
   "cell_type": "markdown",
   "metadata": {},
   "source": [
    "disini yang saya lakukan adalah mencoba melakukan analisa terkait payment_type terhadap vendor. dengan tujuan kembali melihat pattern atau adakah kecenderungan payment_type terhadap vendor, namun disini kembali yang kita temukan adalah keduanya memiliki pola yang sama dan sangat mirip"
   ]
  },
  {
   "cell_type": "code",
   "execution_count": 738,
   "metadata": {},
   "outputs": [
    {
     "name": "stdout",
     "output_type": "stream",
     "text": [
      "payment_type      1      2    3   4\n",
      "VendorID                           \n",
      "1              4636   2624  139  28\n",
      "2             33600  19147  162  42\n"
     ]
    }
   ],
   "source": [
    "# Group the data by VendorID and payment_type and count the number of occurrences\n",
    "vendor_payment_counts = df.groupby(['VendorID', 'payment_type']).size()\n",
    "\n",
    "# Reshape the data to have VendorID as columns and payment_type as rows\n",
    "vendor_payment_comparison = vendor_payment_counts.unstack()\n",
    "\n",
    "# Display the comparison of numbers in VendorID by payment_type\n",
    "print(vendor_payment_comparison)\n"
   ]
  },
  {
   "cell_type": "code",
   "execution_count": 739,
   "metadata": {},
   "outputs": [
    {
     "data": {
      "image/png": "[encoded data removed]",
      "text/plain": [
       "<Figure size 640x480 with 1 Axes>"
      ]
     },
     "metadata": {},
     "output_type": "display_data"
    }
   ],
   "source": [
    "#Create a bar plot\n",
    "sns.barplot(x='payment_type', y='trip_distance', data=df)\n",
    "\n",
    "# Add labels and title\n",
    "plt.xlabel('Payment Type')\n",
    "plt.ylabel('Trip Distance')\n",
    "plt.title('Comparison of Trip Distance by Payment Type')\n",
    "\n",
    "# Display the plot\n",
    "plt.show()"
   ]
  },
  {
   "cell_type": "code",
   "execution_count": 740,
   "metadata": {},
   "outputs": [
    {
     "data": {
      "image/png": "[encoded data removed]",
      "text/plain": [
       "<Figure size 640x480 with 1 Axes>"
      ]
     },
     "metadata": {},
     "output_type": "display_data"
    }
   ],
   "source": [
    "# Calculate the z-scores for trip_distance\n",
    "z_scores = stats.zscore(df['trip_distance'])\n",
    "\n",
    "# Define a threshold value for outlier detection\n",
    "threshold = 3\n",
    "\n",
    "# Create a boolean mask to identify outliers\n",
    "outliers = (z_scores > threshold) | (z_scores < -threshold)\n",
    "\n",
    "# Remove outliers from the dataframe\n",
    "df_no_outliers = df[~outliers]\n",
    "\n",
    "# Create a bar plot without outliers\n",
    "sns.barplot(x='payment_type', y='trip_distance', data=df_no_outliers)\n",
    "\n",
    "# Add labels and title\n",
    "plt.xlabel('Payment Type')\n",
    "plt.ylabel('Trip Distance')\n",
    "plt.title('Comparison of Trip Distance by Payment Type (No Outliers)')\n",
    "\n",
    "# Display the plot\n",
    "plt.show()\n"
   ]
  },
  {
   "cell_type": "code",
   "execution_count": 741,
   "metadata": {},
   "outputs": [
    {
     "name": "stdout",
     "output_type": "stream",
     "text": [
      "Payment Type Distribution for VendorID = 1:\n",
      "1    4636\n",
      "2    2624\n",
      "3     139\n",
      "4      28\n",
      "Name: payment_type, dtype: int64\n",
      "\n",
      "Payment Type Percentage for VendorID = 1:\n",
      "1    62.420897\n",
      "2    35.330551\n",
      "3     1.871550\n",
      "4     0.377003\n",
      "Name: payment_type, dtype: float64\n"
     ]
    }
   ],
   "source": [
    "# Filter the data for VendorID = 1\n",
    "vendor_1_data = df[df['VendorID'] == 1]\n",
    "\n",
    "# Calculate the payment type distribution\n",
    "payment_type_distribution = vendor_1_data['payment_type'].value_counts()\n",
    "\n",
    "# Calculate the percentage of each payment type\n",
    "payment_type_percentage = payment_type_distribution / payment_type_distribution.sum() * 100\n",
    "\n",
    "# Print the payment type distribution and percentage\n",
    "print(\"Payment Type Distribution for VendorID = 1:\")\n",
    "print(payment_type_distribution)\n",
    "print(\"\\nPayment Type Percentage for VendorID = 1:\")\n",
    "print(payment_type_percentage)\n"
   ]
  },
  {
   "cell_type": "code",
   "execution_count": 742,
   "metadata": {},
   "outputs": [
    {
     "name": "stdout",
     "output_type": "stream",
     "text": [
      "Payment Type Distribution for VendorID = 2:\n",
      "1    33600\n",
      "2    19147\n",
      "3      162\n",
      "4       42\n",
      "Name: payment_type, dtype: int64\n",
      "\n",
      "Payment Type Percentage for VendorID = 2:\n",
      "1    63.454892\n",
      "2    36.159846\n",
      "3     0.305943\n",
      "4     0.079319\n",
      "Name: payment_type, dtype: float64\n"
     ]
    }
   ],
   "source": [
    "# Filter the data for VendorID = 2\n",
    "vendor_2_data = df[df['VendorID'] == 2]\n",
    "\n",
    "# Calculate the payment type distribution\n",
    "payment_type_distribution_dua = vendor_2_data['payment_type'].value_counts()\n",
    "\n",
    "# Calculate the percentage of each payment type\n",
    "payment_type_percentage_dua = payment_type_distribution_dua / payment_type_distribution_dua.sum() * 100\n",
    "\n",
    "# Print the payment type distribution and percentage\n",
    "print(\"Payment Type Distribution for VendorID = 2:\")\n",
    "print(payment_type_distribution_dua)\n",
    "print(\"\\nPayment Type Percentage for VendorID = 2:\")\n",
    "print(payment_type_percentage_dua)\n"
   ]
  },
  {
   "attachments": {},
   "cell_type": "markdown",
   "metadata": {},
   "source": [
    "****RESET 3****"
   ]
  },
  {
   "cell_type": "code",
   "execution_count": 744,
   "metadata": {},
   "outputs": [
    {
     "name": "stdout",
     "output_type": "stream",
     "text": [
      "PUType    EveningRush  Overnight  Rush  Standard\n",
      "VendorID                                        \n",
      "1                1664        329  1069      4365\n",
      "2               12612       2787  6019     31533\n"
     ]
    }
   ],
   "source": [
    "# Calculate the value counts of PUType and VendorID\n",
    "counts = df.groupby(['PUType', 'VendorID']).size().reset_index(name='Count')\n",
    "\n",
    "# Pivot the table to have PUType as columns and VendorID as index\n",
    "pivot_table = counts.pivot(index='VendorID', columns='PUType', values='Count')\n",
    "\n",
    "# Print the pivot table\n",
    "print(pivot_table)\n"
   ]
  },
  {
   "attachments": {},
   "cell_type": "markdown",
   "metadata": {},
   "source": [
    "****RESET 4****"
   ]
  },
  {
   "cell_type": "code",
   "execution_count": 745,
   "metadata": {},
   "outputs": [
    {
     "data": {
      "image/png": "[encoded data removed]",
      "text/plain": [
       "<Figure size 1000x600 with 1 Axes>"
      ]
     },
     "metadata": {},
     "output_type": "display_data"
    }
   ],
   "source": [
    "df_month1_vendor1 = df[(df['lpep_pickup_datetime'].dt.month == 1) & (df['VendorID'] == 1)]\n",
    "df_month1_vendor2 = df[(df['lpep_pickup_datetime'].dt.month == 1) & (df['VendorID'] == 2)]\n",
    "\n",
    "# Count the number of orders per day for VendorID 1\n",
    "daily_order_counts_vendor1 = df_month1_vendor1['lpep_pickup_datetime'].dt.day.value_counts().sort_index()\n",
    "\n",
    "# Count the number of orders per day for VendorID 2\n",
    "daily_order_counts_vendor2 = df_month1_vendor2['lpep_pickup_datetime'].dt.day.value_counts().sort_index()\n",
    "\n",
    "# Plotting the daily order counts for both VendorID 1 and VendorID 2\n",
    "plt.figure(figsize=(10, 6))\n",
    "plt.plot(daily_order_counts_vendor1.index, daily_order_counts_vendor1.values, label='VendorID 1')\n",
    "plt.plot(daily_order_counts_vendor2.index, daily_order_counts_vendor2.values, label='VendorID 2')\n",
    "plt.xlabel('Day')\n",
    "plt.ylabel('Order Count')\n",
    "plt.title('Fluctuation of Orders in Month 1')\n",
    "plt.legend()\n",
    "plt.show()\n"
   ]
  },
  {
   "attachments": {},
   "cell_type": "markdown",
   "metadata": {},
   "source": [
    "Melakukan analisa vendor terhadap PUType/ pickup time, untuk melihat kecenderungan apakah taxi yang mana yang biasanya lebih laku ketika rush/overnight/standard. ternyata antar kedua vendor memiliki pattern atau pola yang sama"
   ]
  },
  {
   "cell_type": "code",
   "execution_count": 747,
   "metadata": {},
   "outputs": [
    {
     "name": "stdout",
     "output_type": "stream",
     "text": [
      "PUType    EveningRush  Overnight  Rush  Standard\n",
      "VendorID                                        \n",
      "1                1664        329  1069      4365\n",
      "2               12612       2787  6019     31533\n"
     ]
    }
   ],
   "source": [
    "order_counts = df.groupby(['VendorID', 'PUType']).size().unstack()\n",
    "print(order_counts)\n"
   ]
  },
  {
   "attachments": {},
   "cell_type": "markdown",
   "metadata": {},
   "source": [
    "****RESET 5****"
   ]
  },
  {
   "attachments": {},
   "cell_type": "markdown",
   "metadata": {},
   "source": [
    "Ini menarik disini saya menemukan adanya kota-kota yang justru disana ada order kepada Vendor 1 tetapi tidak ada sama sekali/atau tidak pernah ada order Vendor 2. yang mana disini jumlah order antar Vendor 1 dan 2 sangat timpang Vendor 2 merupakan vendor yang lebih banyak, ini hal yang perlu kita highlight ternyata masih ada wilayah-wilayah yang justru disana vendor 1 lebih dipakai"
   ]
  },
  {
   "cell_type": "code",
   "execution_count": 749,
   "metadata": {},
   "outputs": [
    {
     "name": "stdout",
     "output_type": "stream",
     "text": [
      "There are zones with VendorID 2 but no VendorID 1:\n",
      "Cambria Heights\n",
      "Woodlawn/Wakefield\n",
      "Manhattan Valley\n",
      "Riverdale/North Riverdale/Fieldston\n",
      "Briarwood/Jamaica Hills\n",
      "Long Island City/Queens Plaza\n",
      "Midtown Center\n",
      "University Heights/Morris Heights\n",
      "JFK Airport\n",
      "Richmond Hill\n",
      "Woodhaven\n",
      "Randalls Island\n",
      "Jamaica Estates\n",
      "Cypress Hills\n",
      "Sunset Park East\n",
      "Auburndale\n",
      "LaGuardia Airport\n",
      "Saint Albans\n",
      "Borough Park\n",
      "Yorkville East\n",
      "Bay Ridge\n",
      "Bellerose\n",
      "Eastchester\n",
      "Roosevelt Island\n",
      "Fresh Meadows\n",
      "Willets Point\n",
      "South Jamaica\n",
      "Glendale\n",
      "Dyker Heights\n",
      "Bloomfield/Emerson Hill\n",
      "Allerton/Pelham Gardens\n",
      "Hammels/Arverne\n",
      "Columbia Street\n",
      "Bayside\n",
      "Greenwich Village South\n",
      "Bronxdale\n",
      "Saint Michaels Cemetery/Woodside\n",
      "Middle Village\n",
      "Highbridge\n",
      "Schuylerville/Edgewater Park\n",
      "Hillcrest/Pomonok\n",
      "Rosedale\n",
      "Baisley Park\n",
      "Springfield Gardens South\n",
      "Pelham Bay\n",
      "West Brighton\n",
      "Hollis\n",
      "Murray Hill-Queens\n",
      "Breezy Point/Fort Tilden/Riis Beach\n",
      "Oakland Gardens\n",
      "Whitestone\n",
      "Stapleton\n",
      "Saint George/New Brighton\n"
     ]
    }
   ],
   "source": [
    "vendor1_zones = set(df[df['VendorID'] == 1]['Zone'])\n",
    "vendor2_zones = set(df[df['VendorID'] == 2]['Zone'])\n",
    "\n",
    "zones_with_vendor2_only = vendor2_zones - vendor1_zones\n",
    "\n",
    "if zones_with_vendor2_only:\n",
    "    print(\"There are zones with VendorID 2 but no VendorID 1:\")\n",
    "    for zone in zones_with_vendor2_only:\n",
    "        print(zone)\n",
    "else:\n",
    "    print(\"There are no zones with VendorID 2 but no VendorID 1.\")\n"
   ]
  },
  {
   "cell_type": "code",
   "execution_count": 750,
   "metadata": {},
   "outputs": [
    {
     "name": "stdout",
     "output_type": "stream",
     "text": [
      "There are zones with VendorID 1 but no VendorID 2:\n",
      "Glen Oaks\n",
      "Howard Beach\n",
      "Westerleigh\n",
      "Madison\n"
     ]
    }
   ],
   "source": [
    "vendor1_zones = set(df[df['VendorID'] == 1]['Zone'])\n",
    "vendor2_zones = set(df[df['VendorID'] == 2]['Zone'])\n",
    "\n",
    "zones_with_vendor1_only = vendor1_zones - vendor2_zones\n",
    "\n",
    "if zones_with_vendor1_only:\n",
    "    print(\"There are zones with VendorID 1 but no VendorID 2:\")\n",
    "    for zone in zones_with_vendor1_only:\n",
    "        print(zone)\n",
    "else:\n",
    "    print(\"There are no zones with VendorID 1 but no VendorID 2.\")\n"
   ]
  },
  {
   "cell_type": "code",
   "execution_count": 751,
   "metadata": {},
   "outputs": [
    {
     "name": "stdout",
     "output_type": "stream",
     "text": [
      "Zone: Madison, Frequency: 4\n",
      "Zone: Glen Oaks, Frequency: 2\n",
      "Zone: Howard Beach, Frequency: 1\n",
      "Zone: Westerleigh, Frequency: 1\n"
     ]
    }
   ],
   "source": [
    "zones = [\"Glen Oaks\", \"Howard Beach\", \"Westerleigh\", \"Madison\"]\n",
    "zone_frequency = df[df['Zone'].isin(zones)]['Zone'].value_counts()\n",
    "\n",
    "for zone, count in zone_frequency.items():\n",
    "    print(f\"Zone: {zone}, Frequency: {count}\")\n"
   ]
  },
  {
   "cell_type": "code",
   "execution_count": 752,
   "metadata": {},
   "outputs": [
    {
     "data": {
      "text/html": [
       "<div>\n",
       "<style scoped>\n",
       "    .dataframe tbody tr th:only-of-type {\n",
       "        vertical-align: middle;\n",
       "    }\n",
       "\n",
       "    .dataframe tbody tr th {\n",
       "        vertical-align: top;\n",
       "    }\n",
       "\n",
       "    .dataframe thead th {\n",
       "        text-align: right;\n",
       "    }\n",
       "</style>\n",
       "<table border=\"1\" class=\"dataframe\">\n",
       "  <thead>\n",
       "    <tr style=\"text-align: right;\">\n",
       "      <th></th>\n",
       "      <th>VendorID</th>\n",
       "      <th>lpep_pickup_datetime</th>\n",
       "      <th>lpep_dropoff_datetime</th>\n",
       "      <th>RatecodeID</th>\n",
       "      <th>PULocationID</th>\n",
       "      <th>DOLocationID</th>\n",
       "      <th>passenger_count</th>\n",
       "      <th>trip_distance</th>\n",
       "      <th>payment_type</th>\n",
       "      <th>trip_type</th>\n",
       "      <th>Zone</th>\n",
       "      <th>Drop_zone</th>\n",
       "      <th>PUType</th>\n",
       "      <th>passenger_type</th>\n",
       "      <th>pickup_month</th>\n",
       "    </tr>\n",
       "  </thead>\n",
       "  <tbody>\n",
       "    <tr>\n",
       "      <th>52205</th>\n",
       "      <td>1</td>\n",
       "      <td>2023-01-12 06:25:00</td>\n",
       "      <td>2023-01-12 06:26:41</td>\n",
       "      <td>1</td>\n",
       "      <td>124</td>\n",
       "      <td>180</td>\n",
       "      <td>1</td>\n",
       "      <td>0.3</td>\n",
       "      <td>3</td>\n",
       "      <td>1</td>\n",
       "      <td>Howard Beach</td>\n",
       "      <td>Ozone Park</td>\n",
       "      <td>Standard</td>\n",
       "      <td>Single</td>\n",
       "      <td>1</td>\n",
       "    </tr>\n",
       "    <tr>\n",
       "      <th>61679</th>\n",
       "      <td>1</td>\n",
       "      <td>2023-01-02 22:12:45</td>\n",
       "      <td>2023-01-02 22:20:35</td>\n",
       "      <td>1</td>\n",
       "      <td>149</td>\n",
       "      <td>210</td>\n",
       "      <td>1</td>\n",
       "      <td>1.5</td>\n",
       "      <td>2</td>\n",
       "      <td>1</td>\n",
       "      <td>Madison</td>\n",
       "      <td>Sheepshead Bay</td>\n",
       "      <td>Standard</td>\n",
       "      <td>Single</td>\n",
       "      <td>1</td>\n",
       "    </tr>\n",
       "    <tr>\n",
       "      <th>61680</th>\n",
       "      <td>1</td>\n",
       "      <td>2023-01-05 21:38:11</td>\n",
       "      <td>2023-01-05 21:44:46</td>\n",
       "      <td>1</td>\n",
       "      <td>149</td>\n",
       "      <td>210</td>\n",
       "      <td>1</td>\n",
       "      <td>1.0</td>\n",
       "      <td>2</td>\n",
       "      <td>1</td>\n",
       "      <td>Madison</td>\n",
       "      <td>Sheepshead Bay</td>\n",
       "      <td>Standard</td>\n",
       "      <td>Single</td>\n",
       "      <td>1</td>\n",
       "    </tr>\n",
       "    <tr>\n",
       "      <th>61681</th>\n",
       "      <td>1</td>\n",
       "      <td>2023-01-14 09:00:17</td>\n",
       "      <td>2023-01-14 09:19:44</td>\n",
       "      <td>1</td>\n",
       "      <td>149</td>\n",
       "      <td>210</td>\n",
       "      <td>1</td>\n",
       "      <td>1.3</td>\n",
       "      <td>2</td>\n",
       "      <td>1</td>\n",
       "      <td>Madison</td>\n",
       "      <td>Sheepshead Bay</td>\n",
       "      <td>Rush</td>\n",
       "      <td>Single</td>\n",
       "      <td>1</td>\n",
       "    </tr>\n",
       "    <tr>\n",
       "      <th>61683</th>\n",
       "      <td>1</td>\n",
       "      <td>2023-01-24 13:59:29</td>\n",
       "      <td>2023-01-24 14:20:12</td>\n",
       "      <td>1</td>\n",
       "      <td>149</td>\n",
       "      <td>210</td>\n",
       "      <td>1</td>\n",
       "      <td>1.3</td>\n",
       "      <td>2</td>\n",
       "      <td>1</td>\n",
       "      <td>Madison</td>\n",
       "      <td>Sheepshead Bay</td>\n",
       "      <td>Standard</td>\n",
       "      <td>Single</td>\n",
       "      <td>1</td>\n",
       "    </tr>\n",
       "    <tr>\n",
       "      <th>63616</th>\n",
       "      <td>1</td>\n",
       "      <td>2023-01-01 03:06:11</td>\n",
       "      <td>2023-01-01 03:06:41</td>\n",
       "      <td>5</td>\n",
       "      <td>101</td>\n",
       "      <td>101</td>\n",
       "      <td>1</td>\n",
       "      <td>1.3</td>\n",
       "      <td>3</td>\n",
       "      <td>2</td>\n",
       "      <td>Glen Oaks</td>\n",
       "      <td>Glen Oaks</td>\n",
       "      <td>Overnight</td>\n",
       "      <td>Single</td>\n",
       "      <td>1</td>\n",
       "    </tr>\n",
       "    <tr>\n",
       "      <th>63617</th>\n",
       "      <td>1</td>\n",
       "      <td>2023-01-01 03:07:26</td>\n",
       "      <td>2023-01-01 03:07:50</td>\n",
       "      <td>5</td>\n",
       "      <td>101</td>\n",
       "      <td>101</td>\n",
       "      <td>1</td>\n",
       "      <td>1.3</td>\n",
       "      <td>1</td>\n",
       "      <td>2</td>\n",
       "      <td>Glen Oaks</td>\n",
       "      <td>Glen Oaks</td>\n",
       "      <td>Overnight</td>\n",
       "      <td>Single</td>\n",
       "      <td>1</td>\n",
       "    </tr>\n",
       "    <tr>\n",
       "      <th>63863</th>\n",
       "      <td>1</td>\n",
       "      <td>2023-01-01 03:00:27</td>\n",
       "      <td>2023-01-01 03:00:54</td>\n",
       "      <td>3</td>\n",
       "      <td>251</td>\n",
       "      <td>251</td>\n",
       "      <td>1</td>\n",
       "      <td>4.9</td>\n",
       "      <td>2</td>\n",
       "      <td>1</td>\n",
       "      <td>Westerleigh</td>\n",
       "      <td>Westerleigh</td>\n",
       "      <td>Overnight</td>\n",
       "      <td>Single</td>\n",
       "      <td>1</td>\n",
       "    </tr>\n",
       "  </tbody>\n",
       "</table>\n",
       "</div>"
      ],
      "text/plain": [
       "       VendorID lpep_pickup_datetime lpep_dropoff_datetime  RatecodeID  \\\n",
       "52205         1  2023-01-12 06:25:00   2023-01-12 06:26:41           1   \n",
       "61679         1  2023-01-02 22:12:45   2023-01-02 22:20:35           1   \n",
       "61680         1  2023-01-05 21:38:11   2023-01-05 21:44:46           1   \n",
       "61681         1  2023-01-14 09:00:17   2023-01-14 09:19:44           1   \n",
       "61683         1  2023-01-24 13:59:29   2023-01-24 14:20:12           1   \n",
       "63616         1  2023-01-01 03:06:11   2023-01-01 03:06:41           5   \n",
       "63617         1  2023-01-01 03:07:26   2023-01-01 03:07:50           5   \n",
       "63863         1  2023-01-01 03:00:27   2023-01-01 03:00:54           3   \n",
       "\n",
       "       PULocationID  DOLocationID  passenger_count  trip_distance  \\\n",
       "52205           124           180                1            0.3   \n",
       "61679           149           210                1            1.5   \n",
       "61680           149           210                1            1.0   \n",
       "61681           149           210                1            1.3   \n",
       "61683           149           210                1            1.3   \n",
       "63616           101           101                1            1.3   \n",
       "63617           101           101                1            1.3   \n",
       "63863           251           251                1            4.9   \n",
       "\n",
       "       payment_type  trip_type          Zone       Drop_zone     PUType  \\\n",
       "52205             3          1  Howard Beach      Ozone Park   Standard   \n",
       "61679             2          1       Madison  Sheepshead Bay   Standard   \n",
       "61680             2          1       Madison  Sheepshead Bay   Standard   \n",
       "61681             2          1       Madison  Sheepshead Bay       Rush   \n",
       "61683             2          1       Madison  Sheepshead Bay   Standard   \n",
       "63616             3          2     Glen Oaks       Glen Oaks  Overnight   \n",
       "63617             1          2     Glen Oaks       Glen Oaks  Overnight   \n",
       "63863             2          1   Westerleigh     Westerleigh  Overnight   \n",
       "\n",
       "      passenger_type  pickup_month  \n",
       "52205         Single             1  \n",
       "61679         Single             1  \n",
       "61680         Single             1  \n",
       "61681         Single             1  \n",
       "61683         Single             1  \n",
       "63616         Single             1  \n",
       "63617         Single             1  \n",
       "63863         Single             1  "
      ]
     },
     "execution_count": 752,
     "metadata": {},
     "output_type": "execute_result"
    }
   ],
   "source": [
    "zones = ['Glen Oaks', 'Howard Beach', 'Westerleigh', 'Madison']\n",
    "filtered_df = df[df['Zone'].isin(zones)]\n",
    "filtered_df"
   ]
  },
  {
   "cell_type": "code",
   "execution_count": 754,
   "metadata": {},
   "outputs": [],
   "source": [
    "df.to_csv('NYC TLC Trip Record_final.csv')"
   ]
  },
  {
   "attachments": {},
   "cell_type": "markdown",
   "metadata": {},
   "source": [
    "## KESIMPULAN\n",
    "\n",
    "- Di beberapa kota yang traffic nya tinggi Vendor 1 masih kurang maksimal, karena masih adanya frekuensi order yang dibawah rata-rata\n",
    "- Di kota yang sangat minim order, masih banyak kota yang bahkan Vendor 1 belum pernah ada order didaerah tersebut\n",
    "- tipe-tipe pembayaran tidak memiliki pengaruh terhadap kecenderungan penumpang memilih taxi\n",
    "- tipe-tipe penumpah(group/single/double) tidak memiliki pengaruh terhadap kecenderungan penumpang memilih taxi\n",
    "- jam pikcup penumpang tidak memiliki kecenderungan terhadap penumpang memilih taxi yang mana\n",
    "- adanya kota-kota yang sudah di pegang oleh vendor 1 bahkan belom masuk vendor 2"
   ]
  },
  {
   "attachments": {},
   "cell_type": "markdown",
   "metadata": {},
   "source": [
    "## REKOMENDASI  \n",
    "\n",
    "- di kota-kota dengan traffic tinggi Vendor 1 harus memaksimalkan perbanyakan armada atau melakukan advertisment\n",
    "- vendor 1 juga harus mulai masuk ke kota-kota yang tadinya belum pernah dijamah dan dikunjungi karena mungkin disana ada potensial order"
   ]
  }
 ],
 "metadata": {
  "kernelspec": {
   "display_name": "base",
   "language": "python",
   "name": "python3"
  },
  "language_info": {
   "codemirror_mode": {
    "name": "ipython",
    "version": 3
   },
   "file_extension": ".py",
   "mimetype": "text/x-python",
   "name": "python",
   "nbconvert_exporter": "python",
   "pygments_lexer": "ipython3",
   "version": "3.10.9"
  },
  "orig_nbformat": 4
 },
 "nbformat": 4,
 "nbformat_minor": 2
}
